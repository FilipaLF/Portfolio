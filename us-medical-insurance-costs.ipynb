{
 "cells": [
  {
   "cell_type": "markdown",
   "metadata": {},
   "source": [
    "# U.S. Medical Insurance Costs"
   ]
  },
  {
   "cell_type": "markdown",
   "metadata": {},
   "source": [
    "In this project, a CSV file with medical insurance costs will be investigated using Python. The goal with this project will be to analyze various attributes within insurance.csv to learn more about the patient information in the file and gain insight into potential use cases for the dataset.\n",
    "Some of the analysis will be:\n",
    "* Find out the average age of patients in the dataset\n",
    "* Analyze where a majority of individuals are from \n",
    "* Look at different costs between smokers and non-smokers \n",
    "* What the average age is for someone who has at least one child \n",
    "* Return the number of males vs females \n",
    "* Return the average cost of the patients \n",
    "* Analyze mean and standard deviation (on ages, for example) \n",
    "* Create a dictionary that contains all patient information\n",
    "\n",
    "Extra:\n",
    "* Organize findings into dictionaries, lists or another datatype"
   ]
  },
  {
   "cell_type": "markdown",
   "metadata": {},
   "source": [
    "# **Look over the dataset**"
   ]
  },
  {
   "cell_type": "markdown",
   "metadata": {},
   "source": [
    "This project contains a CSV file containing all the information about medical insurance for each patient.\n",
    "Some notes:\n",
    "* Column names: age, sex, bmi, children, smoker, region, charges\n",
    "* There is no missing data.\n",
    "* Some columns are numerical (age, bmi, children, charges) while some are categorical (sex, smoker, region).\n",
    "* There are seven columns."
   ]
  },
  {
   "cell_type": "code",
   "execution_count": 2,
   "metadata": {},
   "outputs": [],
   "source": [
    "import csv"
   ]
  },
  {
   "cell_type": "code",
   "execution_count": 3,
   "metadata": {},
   "outputs": [],
   "source": [
    "Age = []\n",
    "Sex = []\n",
    "Bmi = []\n",
    "Children = []\n",
    "Smoker = []\n",
    "Region = []\n",
    "Charges = []"
   ]
  },
  {
   "cell_type": "code",
   "execution_count": 4,
   "metadata": {},
   "outputs": [],
   "source": [
    "#create a function to iterate through the insurance.csv file\n",
    "def insurance_info (list, insurance_file, column_name):\n",
    "    with open(insurance_file) as insurance_csv:\n",
    "        insurance = csv.DictReader(insurance_csv)\n",
    "        for row in insurance:\n",
    "            list.append(row[column_name])\n",
    "    return list"
   ]
  },
  {
   "cell_type": "code",
   "execution_count": 5,
   "metadata": {},
   "outputs": [
    {
     "name": "stdout",
     "output_type": "stream",
     "text": [
      "[('19', 'female', '27.9', '0', 'yes', 'southwest', '16884.924'), ('18', 'male', '33.77', '1', 'no', 'southeast', '1725.5523'), ('28', 'male', '33', '3', 'no', 'southeast', '4449.462')]\n"
     ]
    }
   ],
   "source": [
    "#Create lists for all the insurance information\n",
    "age_list = insurance_info(Age, \"insurance.csv\", \"age\")\n",
    "sex_list = insurance_info(Sex, \"insurance.csv\", \"sex\")\n",
    "bmi_list = insurance_info(Bmi, \"insurance.csv\", \"bmi\")\n",
    "children_list = insurance_info(Children, \"insurance.csv\", \"children\")\n",
    "smoker_list = insurance_info(Smoker, \"insurance.csv\", \"smoker\")\n",
    "region_list = insurance_info(Region, \"insurance.csv\", \"region\")\n",
    "charges_list = insurance_info(Charges, \"insurance.csv\", \"charges\")\n",
    "\n",
    "Patient_info = list(zip(Age, Sex, Bmi, Children, Smoker, Region, Charges))\n",
    "print(Patient_info[0: 3])"
   ]
  },
  {
   "cell_type": "code",
   "execution_count": null,
   "metadata": {},
   "outputs": [],
   "source": []
  },
  {
   "cell_type": "markdown",
   "metadata": {},
   "source": [
    "## Organize patient information in a dictionary"
   ]
  },
  {
   "cell_type": "code",
   "execution_count": 6,
   "metadata": {},
   "outputs": [],
   "source": [
    "Patient_number = range(1, 1339)"
   ]
  },
  {
   "cell_type": "code",
   "execution_count": 7,
   "metadata": {},
   "outputs": [],
   "source": [
    "Patient = [{\"age\": a, \"sex\": s, \"bmi\": b, \"children\": c, \"smoker\": sm, \"region\": r, \"charges\": ch} for a, s, b, c, sm, r, ch in zip(Age, Sex, Bmi, Children, Smoker, Region, Charges)]\n",
    "Patient_final = {number: i for number, i in zip(Patient_number, Patient)}"
   ]
  },
  {
   "cell_type": "code",
   "execution_count": 8,
   "metadata": {},
   "outputs": [
    {
     "name": "stdout",
     "output_type": "stream",
     "text": [
      "{1: {'age': '19', 'sex': 'female', 'bmi': '27.9', 'children': '0', 'smoker': 'yes', 'region': 'southwest', 'charges': '16884.924'}, 2: {'age': '18', 'sex': 'male', 'bmi': '33.77', 'children': '1', 'smoker': 'no', 'region': 'southeast', 'charges': '1725.5523'}, 3: {'age': '28', 'sex': 'male', 'bmi': '33', 'children': '3', 'smoker': 'no', 'region': 'southeast', 'charges': '4449.462'}}\n"
     ]
    }
   ],
   "source": [
    "example = dict(list(Patient_final.items())[0: 3]) \n",
    "print(example)"
   ]
  },
  {
   "cell_type": "markdown",
   "metadata": {},
   "source": [
    "# **Analyze Dataset**"
   ]
  },
  {
   "cell_type": "markdown",
   "metadata": {},
   "source": [
    "## Find out the average age of patients in the dataset"
   ]
  },
  {
   "cell_type": "code",
   "execution_count": 9,
   "metadata": {},
   "outputs": [
    {
     "name": "stdout",
     "output_type": "stream",
     "text": [
      "The age average is 39 years. The older patients have 64 years and the younger patients have 18 years.\n"
     ]
    }
   ],
   "source": [
    "#Create function to calculate the average age and the minimum and maximum age:\n",
    "def age_average(Age):\n",
    "    age_count = 0\n",
    "    for row in Age:\n",
    "        age_count += int(row)\n",
    "    return age_count/len(Age)\n",
    "    return min(Age), max(Age)\n",
    "\n",
    "older_age = max(Age)\n",
    "younger_age = min(Age)\n",
    "average = int(age_average(Age))\n",
    "\n",
    "print (\"The age average is\", average, \"years. The older patients have\", older_age, \"years and the younger patients have\", younger_age,\"years.\")"
   ]
  },
  {
   "cell_type": "markdown",
   "metadata": {},
   "source": [
    "## Analyze where a majority of individuals are from"
   ]
  },
  {
   "cell_type": "code",
   "execution_count": 10,
   "metadata": {},
   "outputs": [
    {
     "name": "stdout",
     "output_type": "stream",
     "text": [
      "Patients are from the following regions: southwest, southeast, northwest, northeast .\n"
     ]
    }
   ],
   "source": [
    "#Create a function to find the regions that patients came from\n",
    "def region_origin (Region):\n",
    "    list_of_regions = []\n",
    "    for region in Region:\n",
    "        if region not in list_of_regions:\n",
    "            list_of_regions.append(region)\n",
    "        else:\n",
    "            pass\n",
    "    return list_of_regions\n",
    "regions = list(region_origin(Region))\n",
    "print(\"Patients are from the following regions:\", \", \".join(regions),\".\")"
   ]
  },
  {
   "cell_type": "code",
   "execution_count": 11,
   "metadata": {},
   "outputs": [
    {
     "name": "stdout",
     "output_type": "stream",
     "text": [
      "There are 325 patients from Southwest, 364 from Southeast, 325 from Northwest and 324 from Northeast.\n"
     ]
    }
   ],
   "source": [
    "#Create a function to count how many patients are from each region\n",
    "def region_count (Region):\n",
    "    Southwest = 0\n",
    "    Southeast = 0\n",
    "    Northwest = 0\n",
    "    Northeast = 0\n",
    "    for region in Region:\n",
    "        if region == \"southwest\":\n",
    "            Southwest += 1\n",
    "        elif region == \"southeast\":\n",
    "            Southeast += 1\n",
    "        elif region == \"northwest\":\n",
    "            Northwest += 1\n",
    "        else:\n",
    "            Northeast +=1\n",
    "    return Southwest, Southeast, Northwest, Northeast\n",
    "\n",
    "Southwest, Southeast, Northwest, Northeast = region_count(Region)\n",
    "\n",
    "print(\"There are \" + str(Southwest) + \" patients from Southwest, \" + str(Southeast) + \" from Southeast, \" + str(Northwest) + \" from Northwest and \" + str(Northeast) + \" from Northeast.\")"
   ]
  },
  {
   "cell_type": "markdown",
   "metadata": {},
   "source": [
    "## Look at different costs between smokers and non-smokers"
   ]
  },
  {
   "cell_type": "code",
   "execution_count": 12,
   "metadata": {},
   "outputs": [
    {
     "name": "stdout",
     "output_type": "stream",
     "text": [
      "There are 115 female smokers with an average insurance cost of 30679.0$ and 159 male smokers with an average insurance cost of 33042.01$.\n"
     ]
    }
   ],
   "source": [
    "#Define a function to calculate the number of smokers and group it by sex:\n",
    "def smoker_analysis_by_sex(Patient_info):\n",
    "    female_smokers = 0\n",
    "    female_smokers_charges = 0\n",
    "    male_smokers = 0\n",
    "    male_smokers_charges = 0\n",
    "    for i in Patient_info:\n",
    "        if (i[1] == \"female\") and (i[4] == \"yes\"):\n",
    "            female_smokers += 1\n",
    "            female_smokers_charges += float(i[-1])\n",
    "        elif (i[1] == \"female\") and (i[4] == \"no\"):\n",
    "            female_smokers = female_smokers\n",
    "        elif (i[1] == \"male\") and (i[4] == \"yes\"):\n",
    "            male_smokers += 1\n",
    "            male_smokers_charges += float(i[-1])\n",
    "        else:\n",
    "            male_smokers = male_smokers  \n",
    "    return female_smokers, female_smokers_charges, male_smokers, male_smokers_charges\n",
    "    \n",
    "female_smokers, female_smokers_charges, male_smokers, male_smokers_charges = smoker_analysis_by_sex(Patient_info)\n",
    "avg_female_smoker_cost = round(female_smokers_charges / female_smokers, 2)\n",
    "avg_male_smoker_cost = round(male_smokers_charges / male_smokers, 2)\n",
    "\n",
    "print(\"There are \" + str(female_smokers) + \" female smokers with an average insurance cost of \" + str(avg_female_smoker_cost) + \"$ and \" + str(male_smokers) + \" male smokers with an average insurance cost of \" + str(avg_male_smoker_cost) + \"$.\")"
   ]
  },
  {
   "cell_type": "code",
   "execution_count": 13,
   "metadata": {},
   "outputs": [
    {
     "name": "stdout",
     "output_type": "stream",
     "text": [
      "There are 274 smokers and 1064 non-smokers.\n",
      "The insurance average cost for a smoker is 32050.23$ while the average insurance cost for a non-smoker patient is 8434.27$.\n"
     ]
    }
   ],
   "source": [
    "#Define a function to calculate the number of smokers and the average insurance_cost:\n",
    "def smoker_analysis (Patient_info):\n",
    "    smokers = 0\n",
    "    smokers_cost = 0\n",
    "    non_smokers = 0\n",
    "    non_smokers_cost = 0\n",
    "    for i in Patient_info:\n",
    "        if i[4] == \"yes\":\n",
    "            smokers += 1\n",
    "            smokers_cost += float(i[-1])\n",
    "        if i[4] == \"no\":\n",
    "            non_smokers += 1 \n",
    "            non_smokers_cost += float(i[-1])\n",
    "    return smokers, non_smokers, smokers_cost, non_smokers_cost\n",
    "        \n",
    "smokers, non_smokers, smokers_cost, non_smokers_cost = smoker_analysis(Patient_info)\n",
    "\n",
    "avg_smoker_cost = round(smokers_cost / smokers, 2)\n",
    "avg_non_smoker_cost = round(non_smokers_cost / non_smokers, 2)\n",
    "\n",
    "print(\"There are \" + str(smokers) + \" smokers and \" + str(non_smokers) + \" non-smokers.\")\n",
    "print(\"The insurance average cost for a smoker is \" + str(avg_smoker_cost) + \"$ while the average insurance cost for a non-smoker patient is \" + str(avg_non_smoker_cost) + \"$.\")"
   ]
  },
  {
   "cell_type": "markdown",
   "metadata": {},
   "source": [
    "## What the average age is for someone who has at least one child"
   ]
  },
  {
   "cell_type": "code",
   "execution_count": 14,
   "metadata": {},
   "outputs": [
    {
     "name": "stdout",
     "output_type": "stream",
     "text": [
      "There are 764 patients with children and the average age for a patient with one or more children is 39.8.\n",
      "Number of patients with:\n",
      "  No child: 574\n",
      "  One child: 324\n",
      "  Two children: 240\n",
      "  More than two children: 200\n"
     ]
    }
   ],
   "source": [
    "#Create function to calculate the number of children each patient has\n",
    "def patient_with_children(Patient_info):\n",
    "    no_child = 0\n",
    "    one_child = 0\n",
    "    two_children = 0\n",
    "    more_children = 0\n",
    "    count_patient = 0\n",
    "    total_age_patient = 0\n",
    "    for i in Patient_info:\n",
    "        if int(i[3]) == 0:\n",
    "            no_child += 1\n",
    "        elif (int(i[3]) > 0) and (int(i[3]) <= 1):\n",
    "            one_child += 1\n",
    "        elif (int(i[3]) > 1) and (int(i[3]) <= 2):\n",
    "            two_children += 1\n",
    "        elif int(i[3]) > 2:\n",
    "            more_children += 1\n",
    "        if int(i[3]) >= 1:\n",
    "            count_patient += 1\n",
    "            total_age_patient += int(i[0])\n",
    "    return no_child, one_child, two_children, more_children, count_patient, total_age_patient\n",
    "\n",
    "no_child, one_child, two_children, more_children, count_patient, total_age_patient = patient_with_children (Patient_info)\n",
    "age_avg_with_children = round(total_age_patient / count_patient, 1)\n",
    "\n",
    "print(\"There are \" + str(count_patient) + \" patients with children and the average age for a patient with one or more children is \" + str(age_avg_with_children) + \".\")\n",
    "print(\"Number of patients with:\\n  No child: {}\\n  One child: {}\\n  Two children: {}\\n  More than two children: {}\".format(no_child, one_child,two_children, more_children))"
   ]
  },
  {
   "cell_type": "markdown",
   "metadata": {},
   "source": [
    "## Return the number of males vs females"
   ]
  },
  {
   "cell_type": "code",
   "execution_count": 15,
   "metadata": {},
   "outputs": [
    {
     "name": "stdout",
     "output_type": "stream",
     "text": [
      "The population of this dataset consists of 662 women and 676 men.\n"
     ]
    }
   ],
   "source": [
    "#Determine the number of females and males on the dataset\n",
    "def males_vs_females(Sex):\n",
    "    female_count = 0\n",
    "    male_count = 0\n",
    "    for sex in Sex:\n",
    "        if sex == \"female\":\n",
    "            female_count += 1\n",
    "        else:\n",
    "            male_count +=1\n",
    "    return female_count, male_count\n",
    "\n",
    "female_count, male_count = males_vs_females(Sex)\n",
    "\n",
    "print(\"The population of this dataset consists of {} women and {} men.\".format(female_count, male_count))\n"
   ]
  },
  {
   "cell_type": "markdown",
   "metadata": {},
   "source": [
    "## Return the average cost of the patients"
   ]
  },
  {
   "cell_type": "code",
   "execution_count": 16,
   "metadata": {},
   "outputs": [
    {
     "name": "stdout",
     "output_type": "stream",
     "text": [
      "The average insurance cost for each patient is  13270.42 $.\n",
      "The minimum insurance cost is 1121.87$ and the maximum insurance cost is 63770.43$.\n",
      "These are the patient information for:\n",
      "  Minimum insurance cost:('18', 'male', '23.21', '0', 'no', 'southeast')\n",
      "  Maximum insurance cost:('54', 'female', '47.41', '0', 'yes', 'southeast')\n"
     ]
    }
   ],
   "source": [
    "#Calculate the average insurance cost of the patients:\n",
    "def average_cost(Patient_info):\n",
    "    cost = 0\n",
    "    count_patient = 0\n",
    "    max_charge = 0\n",
    "    min_charge = max_charge\n",
    "    max_charge_info = []\n",
    "    min_charge_info = []\n",
    "    for i in Patient_info:\n",
    "        count_patient += 1\n",
    "        cost += float(i[-1])\n",
    "        if float(i[-1]) > max_charge:\n",
    "            max_charge = float(i[-1])\n",
    "            min_charge = max_charge\n",
    "            max_charge_info = i[0:6]\n",
    "        if float(i[-1]) < min_charge:\n",
    "            min_charge = float(i[-1])\n",
    "            min_charge_info = i[0:6]\n",
    "    return cost, count_patient, max_charge, min_charge, max_charge_info, min_charge_info\n",
    "\n",
    "cost, count_patient, max_charge, min_charge, max_charge_info, min_charge_info = average_cost(Patient_info)\n",
    "avg_cost = round(cost / count_patient, 2)\n",
    "\n",
    "print(\"The average insurance cost for each patient is \", str(avg_cost),\"$.\")\n",
    "print(\"The minimum insurance cost is {}$ and the maximum insurance cost is {}$.\".format(round(min_charge, 2), round(max_charge, 2)))\n",
    "print(\"These are the patient information for:\\n  Minimum insurance cost:{}\\n  Maximum insurance cost:{}\".format(min_charge_info, max_charge_info))"
   ]
  },
  {
   "cell_type": "code",
   "execution_count": 17,
   "metadata": {},
   "outputs": [
    {
     "name": "stdout",
     "output_type": "stream",
     "text": [
      "The median of insurance cost is 9382.03 $.\n"
     ]
    }
   ],
   "source": [
    "#Calculate the median of insurance cost:\n",
    "def cal_median(Charges):\n",
    "    charge = [float(i[-1]) for i in Patient_info]\n",
    "    charges = sorted(charge)\n",
    "    n = len(charges)\n",
    "    m = n // 2\n",
    "    if n % 2 == 0:\n",
    "        return (float(charges[m - 1]) + float(charges[m])) / 2\n",
    "    else:\n",
    "        return charges[m]\n",
    "median = cal_median(Charges)\n",
    "print(\"The median of insurance cost is\",round(median, 2),\"$.\")"
   ]
  },
  {
   "cell_type": "markdown",
   "metadata": {},
   "source": [
    "## Analyze mean and standard deviation for Age"
   ]
  },
  {
   "cell_type": "code",
   "execution_count": 18,
   "metadata": {},
   "outputs": [],
   "source": [
    "#Create a function to analyze the mean and standard deviation\n",
    "def mean_stddev(Patient_info):\n",
    "    info = [float(i[0]) for i in Patient_info]\n",
    "    mean = sum(info) / len(info)\n",
    "    deviations = [(i - mean) ** 2 for i in info]\n",
    "    import math\n",
    "    std_dev = math.sqrt(sum(deviations)/len(deviations))\n",
    "    \n",
    "    return mean, std_dev\n",
    "\n",
    "\n",
    "mean, std_dev = mean_stddev(Patient_info)"
   ]
  },
  {
   "cell_type": "code",
   "execution_count": 19,
   "metadata": {},
   "outputs": [
    {
     "name": "stdout",
     "output_type": "stream",
     "text": [
      "The average age is 39.2 and the standard deviation is 14.0\n"
     ]
    }
   ],
   "source": [
    "print(\"The average age is \" + str(round(mean, 1)) + \" and the standard deviation is \" + str(round(std_dev, 1)))"
   ]
  },
  {
   "cell_type": "code",
   "execution_count": 20,
   "metadata": {},
   "outputs": [
    {
     "name": "stdout",
     "output_type": "stream",
     "text": [
      "The median of patient ages is 39.0\n"
     ]
    }
   ],
   "source": [
    "#Calculate the median of ages:\n",
    "def cal_median(Age):\n",
    "    age = [float(i[0]) for i in Patient_info]\n",
    "    ages = sorted(age)\n",
    "    n = len(ages)\n",
    "    m = n // 2\n",
    "    if n % 2 == 0:\n",
    "        return (float(ages[m - 1]) + float(ages[m])) / 2\n",
    "    else:\n",
    "        return ages[m]\n",
    "median = cal_median(Age)\n",
    "print(\"The median of patient ages is\",round(median, 2))"
   ]
  },
  {
   "cell_type": "markdown",
   "metadata": {},
   "source": [
    "# Conclusion"
   ]
  },
  {
   "cell_type": "markdown",
   "metadata": {},
   "source": [
    "In this project, the medical insurance costs of a representative dataset were investigated using Python. The medical information gathered for each patient to determine the insurance cost were age, sex, bmi, number of children, smoker status, region of origin.\n",
    "\n",
    "The dataset has a population of 1338 patients, consisting of 662 women and 676 men.\n",
    "The age average is 39 years with a standard deviation of 14.0, being the oldest patients 64 years old and the younger patients 18 years old.\n",
    "\n",
    "Patients are spread around four regions in the USA: southwest, southeast, northwest, northeast.\n",
    "There are 325 patients from Southwest, 364 from Southeast, 325 from Northwest and 324 from Northeast.\n",
    "\n",
    "One key parameter for insurance cost is the smoking status of a patient. There are 274 smokers and 1064 non-smokers.\n",
    "Regarding the smoker population, 115 are female with an average insurance cost of 30679.0$ and 159 are male smokers with an average insurance cost of 33042.01$.\n",
    "Overall, the insurance average cost for a smoker is 32050.23$ while the average insurance cost for a non-smoker patient is 8434.27$.\n",
    "\n",
    "Another key parameter for determing the insurance cost is the number of children. There are 764 patients with one or more children and the average age is 39.8 years old.\n",
    "Number of patients with:\n",
    "  No child: 574\n",
    "  One child: 324\n",
    "  Two children: 240\n",
    "  More than two children: 200\n",
    " \n",
    "\n",
    "Overall the average insurance cost for each patient is 13270.42$.\n",
    "The minimum insurance cost is 1121.9$ and the maximum insurance cost is 63770.4$.\n",
    "These are the patient information for:\n",
    "  Minimum insurance cost:('18', 'male', '23.21', '0', 'no', 'southeast')\n",
    "  Maximum insurance cost:('54', 'female', '47.41', '0', 'yes', 'southeast')\n",
    "\n",
    "By this results it is notable the influence of age and smoking status on the insurance cost.\n"
   ]
  },
  {
   "cell_type": "code",
   "execution_count": null,
   "metadata": {},
   "outputs": [],
   "source": []
  }
 ],
 "metadata": {
  "kernelspec": {
   "display_name": "Python 3 (ipykernel)",
   "language": "python",
   "name": "python3"
  },
  "language_info": {
   "codemirror_mode": {
    "name": "ipython",
    "version": 3
   },
   "file_extension": ".py",
   "mimetype": "text/x-python",
   "name": "python",
   "nbconvert_exporter": "python",
   "pygments_lexer": "ipython3",
   "version": "3.11.7"
  }
 },
 "nbformat": 4,
 "nbformat_minor": 4
}
